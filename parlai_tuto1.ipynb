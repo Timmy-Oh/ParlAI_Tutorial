{
 "cells": [
  {
   "cell_type": "code",
   "execution_count": 1,
   "metadata": {
    "collapsed": true
   },
   "outputs": [],
   "source": [
    "from parlai.core.params import ParlaiParser\n",
    "from parlai.agents.repeat_label.repeat_label import RepeatLabelAgent\n",
    "from parlai.core.worlds import create_task"
   ]
  },
  {
   "cell_type": "code",
   "execution_count": 3,
   "metadata": {
    "scrolled": true
   },
   "outputs": [
    {
     "name": "stdout",
     "output_type": "stream",
     "text": [
      "[ optional arguments: ] \n",
      "[  num_examples: 5 ]\n",
      "[ Main ParlAI Arguments: ] \n",
      "[  task: babi ]\n",
      "[  download_path: c:\\users\\dhzns\\parlai\\downloads ]\n",
      "[  datatype: train ]\n",
      "[  image_mode: raw ]\n",
      "[  numthreads: 1 ]\n",
      "[  datapath: c:\\users\\dhzns\\parlai\\data ]\n",
      "[ Batching Arguments: ] \n",
      "[  batchsize: 1 ]\n"
     ]
    }
   ],
   "source": [
    "# argument 입력\n",
    "args = ['-t', 'babi']\n",
    "\n",
    "#arg Paser 생성 및 Parsing\n",
    "parser = ParlaiParser()\n",
    "parser.add_argument('-n', '--num-examples', default=5, type=int)\n",
    "opt = parser.parse_args(args)"
   ]
  },
  {
   "cell_type": "code",
   "execution_count": 4,
   "metadata": {},
   "outputs": [
    {
     "name": "stdout",
     "output_type": "stream",
     "text": [
      "[creating task(s): babi]\n",
      "WARNING: batch_sort disabled for multitasking\n",
      "[building data: c:\\users\\dhzns\\parlai\\data\\bAbI]\n",
      "[||||||||||||||||||||||||||||||||||||||||] 19212062 / 19212062\n",
      "unpacking babi.tar.gz\n",
      "[loading fbdialog data:c:\\users\\dhzns\\parlai\\data\\bAbI\\tasks_1-20_v1-2\\en-valid-nosf\\qa1_train.txt]\n",
      "[loading fbdialog data:c:\\users\\dhzns\\parlai\\data\\bAbI\\tasks_1-20_v1-2\\en-valid-nosf\\qa2_train.txt]\n",
      "[loading fbdialog data:c:\\users\\dhzns\\parlai\\data\\bAbI\\tasks_1-20_v1-2\\en-valid-nosf\\qa3_train.txt]\n",
      "[loading fbdialog data:c:\\users\\dhzns\\parlai\\data\\bAbI\\tasks_1-20_v1-2\\en-valid-nosf\\qa4_train.txt]\n",
      "[loading fbdialog data:c:\\users\\dhzns\\parlai\\data\\bAbI\\tasks_1-20_v1-2\\en-valid-nosf\\qa5_train.txt]\n",
      "[loading fbdialog data:c:\\users\\dhzns\\parlai\\data\\bAbI\\tasks_1-20_v1-2\\en-valid-nosf\\qa6_train.txt]\n",
      "[loading fbdialog data:c:\\users\\dhzns\\parlai\\data\\bAbI\\tasks_1-20_v1-2\\en-valid-nosf\\qa7_train.txt]\n",
      "[loading fbdialog data:c:\\users\\dhzns\\parlai\\data\\bAbI\\tasks_1-20_v1-2\\en-valid-nosf\\qa8_train.txt]\n",
      "[loading fbdialog data:c:\\users\\dhzns\\parlai\\data\\bAbI\\tasks_1-20_v1-2\\en-valid-nosf\\qa9_train.txt]\n",
      "[loading fbdialog data:c:\\users\\dhzns\\parlai\\data\\bAbI\\tasks_1-20_v1-2\\en-valid-nosf\\qa10_train.txt]\n",
      "[loading fbdialog data:c:\\users\\dhzns\\parlai\\data\\bAbI\\tasks_1-20_v1-2\\en-valid-nosf\\qa11_train.txt]\n",
      "[loading fbdialog data:c:\\users\\dhzns\\parlai\\data\\bAbI\\tasks_1-20_v1-2\\en-valid-nosf\\qa12_train.txt]\n",
      "[loading fbdialog data:c:\\users\\dhzns\\parlai\\data\\bAbI\\tasks_1-20_v1-2\\en-valid-nosf\\qa13_train.txt]\n",
      "[loading fbdialog data:c:\\users\\dhzns\\parlai\\data\\bAbI\\tasks_1-20_v1-2\\en-valid-nosf\\qa14_train.txt]\n",
      "[loading fbdialog data:c:\\users\\dhzns\\parlai\\data\\bAbI\\tasks_1-20_v1-2\\en-valid-nosf\\qa15_train.txt]\n",
      "[loading fbdialog data:c:\\users\\dhzns\\parlai\\data\\bAbI\\tasks_1-20_v1-2\\en-valid-nosf\\qa16_train.txt]\n",
      "[loading fbdialog data:c:\\users\\dhzns\\parlai\\data\\bAbI\\tasks_1-20_v1-2\\en-valid-nosf\\qa17_train.txt]\n",
      "[loading fbdialog data:c:\\users\\dhzns\\parlai\\data\\bAbI\\tasks_1-20_v1-2\\en-valid-nosf\\qa18_train.txt]\n",
      "[loading fbdialog data:c:\\users\\dhzns\\parlai\\data\\bAbI\\tasks_1-20_v1-2\\en-valid-nosf\\qa19_train.txt]\n",
      "[loading fbdialog data:c:\\users\\dhzns\\parlai\\data\\bAbI\\tasks_1-20_v1-2\\en-valid-nosf\\qa20_train.txt]\n"
     ]
    }
   ],
   "source": [
    "# Repeat_Label_Agent(Agent) 와 Task(World) 생성\n",
    "agent = RepeatLabelAgent(opt)\n",
    "world = create_task(opt, agent)"
   ]
  },
  {
   "cell_type": "code",
   "execution_count": 5,
   "metadata": {},
   "outputs": [
    {
     "name": "stdout",
     "output_type": "stream",
     "text": [
      "[reward: 0]\n",
      "[babi:Task1k:18]: The box fits inside the chest.\n",
      "The chocolate fits inside the suitcase.\n",
      "The box fits inside the container.\n",
      "The suitcase fits inside the container.\n",
      "The chocolate fits inside the chest.\n",
      "Does the container fit in the chocolate?\n",
      "[labels: no]\n",
      "[cands: no|yes]\n",
      "   [RepeatLabelAgent]: no\n",
      "~~\n",
      "[reward: 0]\n",
      "[babi:Task1k:18]: Does the chocolate fit in the container?\n",
      "[labels: yes]\n",
      "[cands: no|yes]\n",
      "   [RepeatLabelAgent]: yes\n",
      "~~\n",
      "[reward: 0]\n",
      "[babi:Task1k:18]: Does the container fit in the chocolate?\n",
      "[labels: no]\n",
      "[cands: no|yes]\n",
      "   [RepeatLabelAgent]: no\n",
      "~~\n",
      "[reward: 0]\n",
      "[babi:Task1k:18]: Is the chocolate bigger than the container?\n",
      "[labels: no]\n",
      "[cands: no|yes]\n",
      "   [RepeatLabelAgent]: no\n",
      "~~\n",
      "[reward: 0]\n",
      "[babi:Task1k:18]: Does the container fit in the chocolate?\n",
      "[labels: no]\n",
      "[cands: no|yes]\n",
      "   [RepeatLabelAgent]: no\n",
      "- - - - - - - - - - - - - - - - - - - - -\n",
      "~~\n"
     ]
    }
   ],
   "source": [
    "# Show some example dialogs.\n",
    "with world:\n",
    "    for _ in range(opt['num_examples']):\n",
    "        world.parley()\n",
    "        print(world.display() + '\\n~~')\n",
    "        if world.epoch_done():\n",
    "            print('EPOCH DONE')\n",
    "            break"
   ]
  },
  {
   "cell_type": "code",
   "execution_count": null,
   "metadata": {
    "collapsed": true
   },
   "outputs": [],
   "source": []
  }
 ],
 "metadata": {
  "kernelspec": {
   "display_name": "Python 3",
   "language": "python",
   "name": "python3"
  },
  "language_info": {
   "codemirror_mode": {
    "name": "ipython",
    "version": 3
   },
   "file_extension": ".py",
   "mimetype": "text/x-python",
   "name": "python",
   "nbconvert_exporter": "python",
   "pygments_lexer": "ipython3",
   "version": "3.6.3"
  }
 },
 "nbformat": 4,
 "nbformat_minor": 2
}
